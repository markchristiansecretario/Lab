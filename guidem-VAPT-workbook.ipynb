{
 "cells": [
  {
   "cell_type": "markdown",
   "metadata": {},
   "source": [
    "# GUIDEM PENETRATION TESTING METHODOLOGY GUIDE"
   ]
  },
  {
   "cell_type": "code",
   "execution_count": 58,
   "metadata": {
    "scrolled": true
   },
   "outputs": [],
   "source": [
    "# Set all variables replace host with target list or host ip address\n",
    "\n",
    "HOST = '192.168.106.141' #Replace me\n",
    "TARGETLIST = '/root/VAPT/pentest-project1/targets' #Replace me\n",
    "\n",
    "GUIDEM_NMAP_DIR = '/root/VAPT/NMAP'\n",
    "GUIDEM_DIRB_DIR = '/root/VAPT/DIRB'\n",
    "GUIDEM_NIKTO_DIR = '/root/VAPT/NIKTO'\n",
    "GUIDEM_WORDLISTS_DIR = '/root/VAPT/WORDLIST'"
   ]
  },
  {
   "cell_type": "markdown",
   "metadata": {},
   "source": [
    "## CREATE DIRECTORIES FOR FILE OUTPUT"
   ]
  },
  {
   "cell_type": "code",
   "execution_count": 57,
   "metadata": {
    "scrolled": false
   },
   "outputs": [
    {
     "name": "stdout",
     "output_type": "stream",
     "text": [
      "/root/VAPT\n",
      "mkdir: cannot create directory ‘/root/VAPT/NMAP’: File exists\n",
      "mkdir: cannot create directory ‘/root/VAPT/DIRB’: File exists\n",
      "mkdir: cannot create directory ‘/root/VAPT/NIKTO’: File exists\n",
      "mkdir: cannot create directory ‘/root/VAPT/WORDLIST’: File exists\n"
     ]
    }
   ],
   "source": [
    "%cd /root/VAPT/\n",
    "!mkdir {GUIDEM_NMAP_DIR}\n",
    "!mkdir {GUIDEM_DIRB_DIR}\n",
    "!mkdir {GUIDEM_NIKTO_DIR}\n",
    "!mkdir {GUIDEM_WORDLISTS_DIR}\n"
   ]
  },
  {
   "cell_type": "markdown",
   "metadata": {},
   "source": [
    "# SCANNING AND ENUMERATION"
   ]
  },
  {
   "cell_type": "markdown",
   "metadata": {},
   "source": [
    "### SCAN A SINGLE HOST"
   ]
  },
  {
   "cell_type": "code",
   "execution_count": 16,
   "metadata": {
    "scrolled": true
   },
   "outputs": [
    {
     "name": "stdout",
     "output_type": "stream",
     "text": [
      "Starting Nmap 7.80 ( https://nmap.org ) at 2019-11-22 14:54 EST\n",
      "Nmap scan report for 192.168.106.141\n",
      "Host is up (0.0000040s latency).\n",
      "Not shown: 999 closed ports\n",
      "PORT    STATE SERVICE\n",
      "111/tcp open  rpcbind\n",
      "\n",
      "Nmap done: 1 IP address (1 host up) scanned in 4.22 seconds\n"
     ]
    }
   ],
   "source": [
    "!nmap -sS -oA \"{GUIDEM_NMAP_DIR}/syn_scan_single\" {HOST}"
   ]
  },
  {
   "cell_type": "markdown",
   "metadata": {},
   "source": [
    "### SCAN A LIST OF TARGETS"
   ]
  },
  {
   "cell_type": "code",
   "execution_count": 17,
   "metadata": {
    "scrolled": true
   },
   "outputs": [
    {
     "name": "stdout",
     "output_type": "stream",
     "text": [
      "Starting Nmap 7.80 ( https://nmap.org ) at 2019-11-22 14:54 EST\n",
      "Nmap scan report for 192.168.106.141\n",
      "Host is up (0.0000050s latency).\n",
      "Not shown: 999 closed ports\n",
      "PORT    STATE SERVICE\n",
      "111/tcp open  rpcbind\n",
      "\n",
      "Nmap scan report for localhost (127.0.0.1)\n",
      "Host is up (0.0000060s latency).\n",
      "Not shown: 998 closed ports\n",
      "PORT     STATE SERVICE\n",
      "111/tcp  open  rpcbind\n",
      "8888/tcp open  sun-answerbook\n",
      "\n",
      "Nmap done: 2 IP addresses (2 hosts up) scanned in 0.36 seconds\n"
     ]
    }
   ],
   "source": [
    "!nmap -sS -oA \"{GUIDEM_NMAP_DIR}/syn_scan_multiple\" -iL {TARGETLIST}"
   ]
  },
  {
   "cell_type": "markdown",
   "metadata": {},
   "source": [
    "### VERSION DETECTION & ENUMERATION"
   ]
  },
  {
   "cell_type": "code",
   "execution_count": 18,
   "metadata": {
    "scrolled": true
   },
   "outputs": [
    {
     "name": "stdout",
     "output_type": "stream",
     "text": [
      "Starting Nmap 7.80 ( https://nmap.org ) at 2019-11-22 14:54 EST\n",
      "Nmap scan report for 192.168.106.141\n",
      "Host is up (0.0000070s latency).\n",
      "Not shown: 999 closed ports\n",
      "PORT    STATE SERVICE VERSION\n",
      "111/tcp open  rpcbind 2-4 (RPC #100000)\n",
      "\n",
      "Nmap scan report for localhost (127.0.0.1)\n",
      "Host is up (0.0000060s latency).\n",
      "Not shown: 998 closed ports\n",
      "PORT     STATE SERVICE VERSION\n",
      "111/tcp  open  rpcbind 2-4 (RPC #100000)\n",
      "8888/tcp open  http    Tornado httpd 5.1.1\n",
      "\n",
      "Service detection performed. Please report any incorrect results at https://nmap.org/submit/ .\n",
      "Nmap done: 2 IP addresses (2 hosts up) scanned in 13.17 seconds\n"
     ]
    }
   ],
   "source": [
    "!nmap -sSV -oA \"{GUIDEM_NMAP_DIR}/version_detection\" -iL {TARGETLIST}"
   ]
  },
  {
   "cell_type": "code",
   "execution_count": null,
   "metadata": {
    "scrolled": true
   },
   "outputs": [],
   "source": [
    "!nmap -sSV -oA \"{GUIDEM_NMAP_DIR}/version_detection\" -iL {TARGETLIST}"
   ]
  },
  {
   "cell_type": "markdown",
   "metadata": {},
   "source": [
    "### SYN SCAN WITH NMAP SCRIPTING ENGINE"
   ]
  },
  {
   "cell_type": "code",
   "execution_count": 19,
   "metadata": {
    "scrolled": false
   },
   "outputs": [
    {
     "name": "stdout",
     "output_type": "stream",
     "text": [
      "Starting Nmap 7.80 ( https://nmap.org ) at 2019-11-22 14:54 EST\n",
      "Nmap scan report for 192.168.106.141\n",
      "Host is up (0.0000060s latency).\n",
      "Not shown: 999 closed ports\n",
      "PORT    STATE SERVICE\n",
      "111/tcp open  rpcbind\n",
      "| rpcinfo: \n",
      "|   program version    port/proto  service\n",
      "|   100000  2,3,4        111/tcp   rpcbind\n",
      "|   100000  2,3,4        111/udp   rpcbind\n",
      "|   100000  3,4          111/tcp6  rpcbind\n",
      "|_  100000  3,4          111/udp6  rpcbind\n",
      "\n",
      "Nmap scan report for localhost (127.0.0.1)\n",
      "Host is up (0.0000070s latency).\n",
      "Not shown: 998 closed ports\n",
      "PORT     STATE SERVICE\n",
      "111/tcp  open  rpcbind\n",
      "| rpcinfo: \n",
      "|   program version    port/proto  service\n",
      "|   100000  2,3,4        111/tcp   rpcbind\n",
      "|   100000  2,3,4        111/udp   rpcbind\n",
      "|   100000  3,4          111/tcp6  rpcbind\n",
      "|_  100000  3,4          111/udp6  rpcbind\n",
      "8888/tcp open  sun-answerbook\n",
      "\n",
      "Nmap done: 2 IP addresses (2 hosts up) scanned in 15.03 seconds\n"
     ]
    }
   ],
   "source": [
    "#You can replace the -iL with an ip address\n",
    "!nmap -sSC -oA \"{GUIDEM_NMAP_DIR}/syn_nmapscript\" -iL {TARGETLIST}"
   ]
  },
  {
   "cell_type": "markdown",
   "metadata": {},
   "source": [
    "### Perform Full TCP NMAP SCAN - This might take long"
   ]
  },
  {
   "cell_type": "code",
   "execution_count": 59,
   "metadata": {
    "scrolled": false
   },
   "outputs": [
    {
     "name": "stdout",
     "output_type": "stream",
     "text": [
      "Starting Nmap 7.80 ( https://nmap.org ) at 2019-11-22 15:31 EST\n",
      "NSE: Loaded 151 scripts for scanning.\n",
      "NSE: Script Pre-scanning.\n",
      "NSE: Starting runlevel 1 (of 3) scan.\n",
      "Initiating NSE at 15:31\n",
      "Completed NSE at 15:31, 0.00s elapsed\n",
      "NSE: Starting runlevel 2 (of 3) scan.\n",
      "Initiating NSE at 15:31\n",
      "Completed NSE at 15:31, 0.00s elapsed\n",
      "NSE: Starting runlevel 3 (of 3) scan.\n",
      "Initiating NSE at 15:31\n",
      "Completed NSE at 15:31, 0.00s elapsed\n",
      "Initiating Parallel DNS resolution of 1 host. at 15:31\n",
      "Completed Parallel DNS resolution of 1 host. at 15:31, 0.02s elapsed\n",
      "Initiating SYN Stealth Scan at 15:31\n",
      "Scanning 192.168.106.141 [65535 ports]\n",
      "Discovered open port 111/tcp on 192.168.106.141\n",
      "Completed SYN Stealth Scan at 15:31, 0.95s elapsed (65535 total ports)\n",
      "Initiating Service scan at 15:31\n",
      "Scanning 1 service on 192.168.106.141\n",
      "Completed Service scan at 15:31, 6.01s elapsed (1 service on 1 host)\n",
      "Initiating OS detection (try #1) against 192.168.106.141\n",
      "Retrying OS detection (try #2) against 192.168.106.141\n",
      "Retrying OS detection (try #3) against 192.168.106.141\n",
      "Retrying OS detection (try #4) against 192.168.106.141\n",
      "Retrying OS detection (try #5) against 192.168.106.141\n",
      "NSE: Script scanning 192.168.106.141.\n",
      "NSE: Starting runlevel 1 (of 3) scan.\n",
      "Initiating NSE at 15:31\n",
      "Completed NSE at 15:31, 0.12s elapsed\n",
      "NSE: Starting runlevel 2 (of 3) scan.\n",
      "Initiating NSE at 15:31\n",
      "Completed NSE at 15:31, 0.01s elapsed\n",
      "NSE: Starting runlevel 3 (of 3) scan.\n",
      "Initiating NSE at 15:31\n",
      "Completed NSE at 15:31, 0.01s elapsed\n",
      "Nmap scan report for 192.168.106.141\n",
      "Host is up, received localhost-response (0.000055s latency).\n",
      "Scanned at 2019-11-22 15:31:15 EST for 19s\n",
      "Not shown: 65534 closed ports\n",
      "Reason: 65534 resets\n",
      "PORT    STATE SERVICE REASON         VERSION\n",
      "111/tcp open  rpcbind syn-ack ttl 64 2-4 (RPC #100000)\n",
      "| rpcinfo: \n",
      "|   program version    port/proto  service\n",
      "|   100000  2,3,4        111/tcp   rpcbind\n",
      "|   100000  2,3,4        111/udp   rpcbind\n",
      "|   100000  3,4          111/tcp6  rpcbind\n",
      "|_  100000  3,4          111/udp6  rpcbind\n",
      "No exact OS matches for host (If you know what OS is running on it, see https://nmap.org/submit/ ).\n",
      "TCP/IP fingerprint:\n",
      "OS:SCAN(V=7.80%E=4%D=11/22%OT=111%CT=1%CU=36923%PV=Y%DS=0%DC=L%G=Y%TM=5DD84\n",
      "OS:5A6%P=x86_64-pc-linux-gnu)SEQ(SP=109%GCD=1%ISR=10A%TI=Z%CI=Z%II=I%TS=A)O\n",
      "OS:PS(O1=MFFD7ST11NW7%O2=MFFD7ST11NW7%O3=MFFD7NNT11NW7%O4=MFFD7ST11NW7%O5=M\n",
      "OS:FFD7ST11NW7%O6=MFFD7ST11)WIN(W1=FFCB%W2=FFCB%W3=FFCB%W4=FFCB%W5=FFCB%W6=\n",
      "OS:FFCB)ECN(R=Y%DF=Y%T=40%W=FFD7%O=MFFD7NNSNW7%CC=Y%Q=)T1(R=Y%DF=Y%T=40%S=O\n",
      "OS:%A=S+%F=AS%RD=0%Q=)T2(R=N)T3(R=N)T4(R=Y%DF=Y%T=40%W=0%S=A%A=Z%F=R%O=%RD=\n",
      "OS:0%Q=)T5(R=Y%DF=Y%T=40%W=0%S=Z%A=S+%F=AR%O=%RD=0%Q=)T6(R=Y%DF=Y%T=40%W=0%\n",
      "OS:S=A%A=Z%F=R%O=%RD=0%Q=)T7(R=Y%DF=Y%T=40%W=0%S=Z%A=S+%F=AR%O=%RD=0%Q=)U1(\n",
      "OS:R=Y%DF=N%T=40%IPL=164%UN=0%RIPL=G%RID=G%RIPCK=G%RUCK=G%RUD=G)IE(R=Y%DFI=\n",
      "OS:N%T=40%CD=S)\n",
      "\n",
      "Uptime guess: 27.215 days (since Sat Oct 26 11:21:21 2019)\n",
      "Network Distance: 0 hops\n",
      "TCP Sequence Prediction: Difficulty=265 (Good luck!)\n",
      "IP ID Sequence Generation: All zeros\n",
      "\n",
      "Initiating SYN Stealth Scan at 15:31\n",
      "Scanning localhost (127.0.0.1) [65535 ports]\n",
      "Discovered open port 8888/tcp on 127.0.0.1\n",
      "Discovered open port 111/tcp on 127.0.0.1\n",
      "Discovered open port 58233/tcp on 127.0.0.1\n",
      "Discovered open port 53049/tcp on 127.0.0.1\n",
      "Discovered open port 39829/tcp on 127.0.0.1\n",
      "Discovered open port 5432/tcp on 127.0.0.1\n",
      "Discovered open port 54289/tcp on 127.0.0.1\n",
      "Discovered open port 46207/tcp on 127.0.0.1\n",
      "Discovered open port 43485/tcp on 127.0.0.1\n",
      "Discovered open port 41925/tcp on 127.0.0.1\n",
      "Discovered open port 42761/tcp on 127.0.0.1\n",
      "Discovered open port 46725/tcp on 127.0.0.1\n",
      "Discovered open port 54557/tcp on 127.0.0.1\n",
      "Discovered open port 57213/tcp on 127.0.0.1\n",
      "Discovered open port 60859/tcp on 127.0.0.1\n",
      "Completed SYN Stealth Scan at 15:31, 0.97s elapsed (65535 total ports)\n",
      "Initiating Service scan at 15:31\n",
      "Scanning 15 services on localhost (127.0.0.1)\n",
      "Completed Service scan at 15:31, 6.01s elapsed (15 services on 1 host)\n",
      "Initiating OS detection (try #1) against localhost (127.0.0.1)\n",
      "NSE: Script scanning 127.0.0.1.\n",
      "NSE: Starting runlevel 1 (of 3) scan.\n",
      "Initiating NSE at 15:31\n",
      "Completed NSE at 15:31, 2.07s elapsed\n",
      "NSE: Starting runlevel 2 (of 3) scan.\n",
      "Initiating NSE at 15:31\n",
      "Completed NSE at 15:31, 0.03s elapsed\n",
      "NSE: Starting runlevel 3 (of 3) scan.\n",
      "Initiating NSE at 15:31\n",
      "Completed NSE at 15:31, 0.00s elapsed\n",
      "Nmap scan report for localhost (127.0.0.1)\n",
      "Host is up, received localhost-response (0.000053s latency).\n",
      "Scanned at 2019-11-22 15:31:34 EST for 11s\n",
      "Not shown: 65520 closed ports\n",
      "Reason: 65520 resets\n",
      "PORT      STATE SERVICE    REASON         VERSION\n",
      "111/tcp   open  rpcbind    syn-ack ttl 64 2-4 (RPC #100000)\n",
      "| rpcinfo: \n",
      "|   program version    port/proto  service\n",
      "|   100000  2,3,4        111/tcp   rpcbind\n",
      "|   100000  2,3,4        111/udp   rpcbind\n",
      "|   100000  3,4          111/tcp6  rpcbind\n",
      "|_  100000  3,4          111/udp6  rpcbind\n",
      "5432/tcp  open  postgresql syn-ack ttl 64 PostgreSQL DB 9.6.0 or later\n",
      "| fingerprint-strings: \n",
      "|   SMBProgNeg: \n",
      "|     SFATAL\n",
      "|     VFATAL\n",
      "|     C0A000\n",
      "|     Munsupported frontend protocol 65363.19778: server supports 2.0 to 3.0\n",
      "|     Fpostmaster.c\n",
      "|     L2016\n",
      "|_    RProcessStartupPacket\n",
      "| ssl-cert: Subject: commonName=kali\n",
      "| Subject Alternative Name: DNS:kali\n",
      "| Issuer: commonName=kali\n",
      "| Public Key type: rsa\n",
      "| Public Key bits: 2048\n",
      "| Signature Algorithm: sha256WithRSAEncryption\n",
      "| Not valid before: 2019-08-30T13:55:49\n",
      "| Not valid after:  2029-08-27T13:55:49\n",
      "| MD5:   a487 853e 4041 b576 85d1 da62 c910 6962\n",
      "| SHA-1: 7f71 9839 184e da68 f809 e1e8 9378 dd43 d232 52f1\n",
      "| -----BEGIN CERTIFICATE-----\n",
      "| MIICyjCCAbKgAwIBAgIUXeNhHnsmRtZIlpE9W/aPLSvIedYwDQYJKoZIhvcNAQEL\n",
      "| BQAwDzENMAsGA1UEAwwEa2FsaTAeFw0xOTA4MzAxMzU1NDlaFw0yOTA4MjcxMzU1\n",
      "| NDlaMA8xDTALBgNVBAMMBGthbGkwggEiMA0GCSqGSIb3DQEBAQUAA4IBDwAwggEK\n",
      "| AoIBAQDRj+FN4m+p7wA3D5ZuLTrN4/7ETPPbJGbLaW7JG6sAjbpXhpY/p10kP7Q1\n",
      "| vA2EsT4C1yqITbgBcrB7rxFDubdbSp9MxjKc0codpBdjuIMoCLRie6OK59U2zy/5\n",
      "| WW03xwtbrMxytjEh8QRK6X44P5JJ7jt1WkfRqj3M6xRjCNSWh28F8LaSqIoTjEAg\n",
      "| crWdcLei/aIqRms9OapSvLjt16bg0ZgDIERJYlEHcCoKnZ/vueOslSBK+2gfZ8OQ\n",
      "| uraLcX7KiIWR931NZDbB3N1aAxduh/Vlcnmnu4xw0CC/VXE++5iS0nWJYkwSlLbE\n",
      "| RpRvousv72+a4kRuamOulILSgznlAgMBAAGjHjAcMAkGA1UdEwQCMAAwDwYDVR0R\n",
      "| BAgwBoIEa2FsaTANBgkqhkiG9w0BAQsFAAOCAQEAgGZdOmwcuMSkma4oxAoH4+Cs\n",
      "| XYwveyv0RaLscj6aTMOcu4DLjxkcvDnboQAbyVhCG1u9lCEBZo9sHPjwP2RKm4Kb\n",
      "| vYmfq9H1IaWDzKCEaa2mAvbyef2G9sJZ+umK5g1F2jT8kEzvPxBrt36Zuqmlj9/R\n",
      "| Z+Izab4s08E3lQ1zD9NWbCQKQfQOHxoLUG1JwcFTNIm00wmn0xzPecZVxqJvyMRJ\n",
      "| h44NQIjQgp01EGYnaiD1xUTimEWkSb+CD0rSOLOsMM+FmczVYlK/yB64v+XhLemU\n",
      "| 5BR5Ddkm+9Q/VZoA7byRffrcNb/FbJw8ossxvfxiwInjFTzraG7PepyIf+JsTA==\n",
      "|_-----END CERTIFICATE-----\n",
      "|_ssl-date: TLS randomness does not represent time\n",
      "8888/tcp  open  http       syn-ack ttl 64 Tornado httpd 5.1.1\n",
      "|_http-favicon: Unknown favicon MD5: 97C6417ED01BDC0AE3EF32AE4894FD03\n",
      "| http-methods: \n",
      "|_  Supported Methods: GET POST\n",
      "| http-robots.txt: 1 disallowed entry \n",
      "|_/ \n",
      "|_http-server-header: TornadoServer/5.1.1\n",
      "| http-title: Jupyter Notebook\n",
      "|_Requested resource was /login?next=%2Ftree%3F\n",
      "39829/tcp open  zmtp       syn-ack ttl 64 ZeroMQ ZMTP 2.0\n",
      "41925/tcp open  zmtp       syn-ack ttl 64 ZeroMQ ZMTP 2.0\n",
      "42761/tcp open  zmtp       syn-ack ttl 64 ZeroMQ ZMTP 2.0\n",
      "43485/tcp open  zmtp       syn-ack ttl 64 ZeroMQ ZMTP 2.0\n",
      "46207/tcp open  zmtp       syn-ack ttl 64 ZeroMQ ZMTP 2.0\n",
      "46725/tcp open  zmtp       syn-ack ttl 64 ZeroMQ ZMTP 2.0\n",
      "53049/tcp open  zmtp       syn-ack ttl 64 ZeroMQ ZMTP 2.0\n",
      "54289/tcp open  zmtp       syn-ack ttl 64 ZeroMQ ZMTP 2.0\n",
      "54557/tcp open  zmtp       syn-ack ttl 64 ZeroMQ ZMTP 2.0\n",
      "57213/tcp open  zmtp       syn-ack ttl 64 ZeroMQ ZMTP 2.0\n",
      "58233/tcp open  zmtp       syn-ack ttl 64 ZeroMQ ZMTP 2.0\n",
      "60859/tcp open  zmtp       syn-ack ttl 64 ZeroMQ ZMTP 2.0\n",
      "1 service unrecognized despite returning data. If you know the service/version, please submit the following fingerprint at https://nmap.org/cgi-bin/submit.cgi?new-service :\n",
      "SF-Port5432-TCP:V=7.80%I=7%D=11/22%Time=5DD845AD%P=x86_64-pc-linux-gnu%r(S\n",
      "SF:MBProgNeg,8C,\"E\\0\\0\\0\\x8bSFATAL\\0VFATAL\\0C0A000\\0Munsupported\\x20fronte\n",
      "SF:nd\\x20protocol\\x2065363\\.19778:\\x20server\\x20supports\\x202\\.0\\x20to\\x20\n",
      "SF:3\\.0\\0Fpostmaster\\.c\\0L2016\\0RProcessStartupPacket\\0\\0\");\n",
      "Device type: general purpose\n",
      "Running: Linux 2.6.X\n",
      "OS CPE: cpe:/o:linux:linux_kernel:2.6.32\n",
      "OS details: Linux 2.6.32\n",
      "TCP/IP fingerprint:\n",
      "OS:SCAN(V=7.80%E=4%D=11/22%OT=111%CT=1%CU=35740%PV=N%DS=0%DC=L%G=Y%TM=5DD84\n",
      "OS:5B1%P=x86_64-pc-linux-gnu)SEQ(SP=101%GCD=1%ISR=110%TI=Z%CI=Z%II=I%TS=A)O\n",
      "OS:PS(O1=MFFD7ST11NW7%O2=MFFD7ST11NW7%O3=MFFD7NNT11NW7%O4=MFFD7ST11NW7%O5=M\n",
      "OS:FFD7ST11NW7%O6=MFFD7ST11)WIN(W1=FFCB%W2=FFCB%W3=FFCB%W4=FFCB%W5=FFCB%W6=\n",
      "OS:FFCB)ECN(R=Y%DF=Y%T=40%W=FFD7%O=MFFD7NNSNW7%CC=Y%Q=)T1(R=Y%DF=Y%T=40%S=O\n",
      "OS:%A=S+%F=AS%RD=0%Q=)T2(R=N)T3(R=N)T4(R=Y%DF=Y%T=40%W=0%S=A%A=Z%F=R%O=%RD=\n",
      "OS:0%Q=)T5(R=Y%DF=Y%T=40%W=0%S=Z%A=S+%F=AR%O=%RD=0%Q=)T6(R=Y%DF=Y%T=40%W=0%\n",
      "OS:S=A%A=Z%F=R%O=%RD=0%Q=)T7(R=Y%DF=Y%T=40%W=0%S=Z%A=S+%F=AR%O=%RD=0%Q=)U1(\n",
      "OS:R=Y%DF=N%T=40%IPL=164%UN=0%RIPL=G%RID=G%RIPCK=G%RUCK=G%RUD=G)IE(R=Y%DFI=\n",
      "OS:N%T=40%CD=S)\n",
      "\n",
      "Uptime guess: 45.326 days (since Tue Oct  8 08:42:43 2019)\n",
      "Network Distance: 0 hops\n",
      "TCP Sequence Prediction: Difficulty=257 (Good luck!)\n",
      "IP ID Sequence Generation: All zeros\n",
      "\n"
     ]
    },
    {
     "name": "stdout",
     "output_type": "stream",
     "text": [
      "NSE: Script Post-scanning.\r\n",
      "NSE: Starting runlevel 1 (of 3) scan.\r\n",
      "Initiating NSE at 15:31\r\n",
      "Completed NSE at 15:31, 0.00s elapsed\r\n",
      "NSE: Starting runlevel 2 (of 3) scan.\r\n",
      "Initiating NSE at 15:31\r\n",
      "Completed NSE at 15:31, 0.00s elapsed\r\n",
      "NSE: Starting runlevel 3 (of 3) scan.\r\n",
      "Initiating NSE at 15:31\r\n",
      "Completed NSE at 15:31, 0.00s elapsed\r\n",
      "Read data files from: /usr/bin/../share/nmap\r\n",
      "OS and Service detection performed. Please report any incorrect results at https://nmap.org/submit/ .\r\n",
      "Nmap done: 2 IP addresses (2 hosts up) scanned in 30.27 seconds\r\n",
      "           Raw packets sent: 131202 (5.778MB) | Rcvd: 262448 (11.035MB)\r\n"
     ]
    }
   ],
   "source": [
    "!nmap -sSCV -p- -O -oA \"{GUIDEM_NMAP_DIR}/nmap-full\" -iL {TARGETLIST} -vv"
   ]
  },
  {
   "cell_type": "markdown",
   "metadata": {},
   "source": [
    "### PARSING NMAP OUTPUT FOR PENETRATION TESTING REPORT"
   ]
  },
  {
   "cell_type": "markdown",
   "metadata": {},
   "source": [
    "### Installing the parser (only run once)"
   ]
  },
  {
   "cell_type": "code",
   "execution_count": null,
   "metadata": {
    "scrolled": false
   },
   "outputs": [],
   "source": [
    "%%bash\n",
    "git clone https://github.com/Shifty0g/ultimate-nmap-parser/\n",
    "cd ultimate-nmap-parser/\n",
    "chmod +x ultimate-nmap-parser.sh\n"
   ]
  },
  {
   "cell_type": "markdown",
   "metadata": {},
   "source": [
    "### Parsing the full nmap scan"
   ]
  },
  {
   "cell_type": "code",
   "execution_count": 21,
   "metadata": {
    "scrolled": false
   },
   "outputs": [
    {
     "name": "stdout",
     "output_type": "stream",
     "text": [
      "\u001b[1m\t_  _ _    ___ _ _  _ ____ ___ ____    _  _ _  _ ____ ___  \n",
      "\t|  | |     |  | |\\/| |__|  |  |___    |\\ | |\\/| |__| |__] \n",
      "\t|__| |___  |  | |  | |  |  |  |___    | \\| |  | |  | |    \n",
      "\t\t\t___  ____ ____ ____ ____ ____                   \n",
      "\t\t\t|__] |__| |__/ [__  |___ |__/                   \n",
      "\t\t\t|    |  | |  \\ ___] |___ |  \\                   \n",
      "\t\t\t                                                \n",
      "\u001b[39m\u001b[0m\u001b[96mVersion: 0.6 - 08/06/2019\n",
      "Created By: Shifty0g \thttps://github.com/shifty0g  \u001b[39m\n",
      "\n",
      "\u001b[1m\u001b[93m[>]\u001b[0m Creating CSV File\n",
      "\t- parsed_nmap.csv\n",
      "\n",
      "\u001b[1m\u001b[93m[>]\u001b[0m Creating Summary\n",
      "\t- summary.txt\n",
      "\n",
      "\u001b[1m\u001b[93m[>]\u001b[0m Creating IP Port file \n",
      "\t- parsed_ipport.txt\n",
      "\n",
      "\u001b[1m\u001b[93m[>]\u001b[0m Parsing unique ports\n",
      "\t- ports_unique.txt\n",
      "\n",
      "\u001b[1m\u001b[93m[>]\u001b[0m Parsing tcp ports\n",
      "\t- ports_tcp.txt\n",
      "\n",
      "\u001b[1m\u001b[93m[>]\u001b[0m Parsing udp ports\n",
      "\u001b[91m\t- no UDP ports \u001b[39m\n",
      "\n",
      "\u001b[1m\u001b[93m[>]\u001b[0m Parsing up hosts\n",
      "\t- hosts_up.txt\n",
      "\n",
      "\u001b[1m\u001b[93m[>]\u001b[0m Parsing down hosts\n",
      "\u001b[91m\t- no down hosts \u001b[39m\n",
      "\n",
      "\u001b[1m\u001b[93m[>]\u001b[0m Creating smb paths\n",
      "\u001b[91m\t- no SMB ports \u001b[39m\n",
      "\n",
      "\u001b[1m\u001b[93m[>]\u001b[0m Creating web URLS\n",
      "\t- web-urls.txt\n",
      "\n",
      "\u001b[1m\u001b[93m[>]\u001b[0m Creating ssl/tls list\n",
      "\u001b[91m\t- no ports found \u001b[39m\n",
      "\n",
      "\u001b[1m\u001b[93m[>]\u001b[0m Generating host port files\n",
      "\t- hosts/[PROTOCOL]_[PORT]-[SERVICE].txt\n",
      "\n",
      "\u001b[1m\u001b[93m[>]\u001b[0m Generating  Closed Ports Summary\n",
      "\t- closed-summary.txt\n",
      "\n",
      "--------------------------------------------------------------------------------------\n",
      "\t\t\t\t           ___                           \n",
      "\t\t\t\t  _  _  .-'   '-.                        \n",
      "\t\t\t\t (.)(.)/         \\                       \n",
      "\t\t\t\t  /@@             ;                      \n",
      "\t\t\t\t o_\\-mm-......-mm`~~~~~~~~~~~~~~~~`   \n",
      "\t\t\t\t                                         \n",
      "\n",
      "\n",
      "\n",
      "::::::::::::::\n",
      "/root/VAPT/NMAP/parse/hosts_up.txt\n",
      "::::::::::::::\n",
      "127.0.0.1\n",
      "192.168.106.141\n",
      "::::::::::::::\n",
      "/root/VAPT/NMAP/parse/parsed_ipport.txt\n",
      "::::::::::::::\n",
      "127.0.0.1:111\n",
      "127.0.0.1:8888\n",
      "127.0.0.1:39829\n",
      "127.0.0.1:41925\n",
      "127.0.0.1:42761\n",
      "127.0.0.1:43485\n",
      "127.0.0.1:46207\n",
      "127.0.0.1:46725\n",
      "127.0.0.1:53049\n",
      "127.0.0.1:54289\n",
      "127.0.0.1:54557\n",
      "127.0.0.1:57213\n",
      "127.0.0.1:58233\n",
      "127.0.0.1:60859\n",
      "192.168.106.141:111\n",
      "::::::::::::::\n",
      "/root/VAPT/NMAP/parse/ports_tcp.txt\n",
      "::::::::::::::\n",
      "111,8888,39829,41925,42761,43485,46207,46725,53049,54289,54557,57213,58233,60859\n",
      "::::::::::::::\n",
      "/root/VAPT/NMAP/parse/ports_unique.txt\n",
      "::::::::::::::\n",
      "111,8888,39829,41925,42761,43485,46207,46725,53049,54289,54557,57213,58233,60859\n",
      "::::::::::::::\n",
      "/root/VAPT/NMAP/parse/summary.txt\n",
      "::::::::::::::\n",
      "+=========================================================================================+\n",
      "| HOST             | PORT / PROTOCOL  | SERVICE                                           |  \n",
      "+=========================================================================================+\n",
      "| 127.0.0.1        | 111 / tcp        | rpcbind - 2-4 (RPC #100000)                       | \n",
      "| 127.0.0.1        | 8888 / tcp       | http - Tornado httpd 5.1.1                        | \n",
      "| 127.0.0.1        | 39829 / tcp      | zmtp - ZeroMQ ZMTP 2.0                            | \n",
      "| 127.0.0.1        | 41925 / tcp      | zmtp - ZeroMQ ZMTP 2.0                            | \n",
      "| 127.0.0.1        | 42761 / tcp      | zmtp - ZeroMQ ZMTP 2.0                            | \n",
      "| 127.0.0.1        | 43485 / tcp      | zmtp - ZeroMQ ZMTP 2.0                            | \n",
      "| 127.0.0.1        | 46207 / tcp      | zmtp - ZeroMQ ZMTP 2.0                            | \n",
      "| 127.0.0.1        | 46725 / tcp      | zmtp - ZeroMQ ZMTP 2.0                            | \n",
      "| 127.0.0.1        | 53049 / tcp      | zmtp - ZeroMQ ZMTP 2.0                            | \n",
      "| 127.0.0.1        | 54289 / tcp      | zmtp - ZeroMQ ZMTP 2.0                            | \n",
      "| 127.0.0.1        | 54557 / tcp      | zmtp - ZeroMQ ZMTP 2.0                            | \n",
      "| 127.0.0.1        | 57213 / tcp      | zmtp - ZeroMQ ZMTP 2.0                            | \n",
      "| 127.0.0.1        | 58233 / tcp      | zmtp - ZeroMQ ZMTP 2.0                            | \n",
      "| 127.0.0.1        | 60859 / tcp      | zmtp - ZeroMQ ZMTP 2.0                            | \n",
      "+=========================================================================================+\n",
      "| 192.168.106.141  | 111 / tcp        | rpcbind - 2-4 (RPC #100000)                       | \n",
      "+=========================================================================================+\n",
      "::::::::::::::\n",
      "/root/VAPT/NMAP/parse/web-urls.txt\n",
      "::::::::::::::\n",
      "http://127.0.0.1:8888/\n",
      "::::::::::::::\n",
      "/root/VAPT/NMAP/parse/hosts/tcp_111-rpc.txt\n",
      "::::::::::::::\n",
      "127.0.0.1\n",
      "192.168.106.141\n",
      "::::::::::::::\n",
      "/root/VAPT/NMAP/parse/hosts/tcp_39829-zmtp.txt\n",
      "::::::::::::::\n",
      "127.0.0.1\n",
      "::::::::::::::\n",
      "/root/VAPT/NMAP/parse/hosts/tcp_41925-zmtp.txt\n",
      "::::::::::::::\n",
      "127.0.0.1\n",
      "::::::::::::::\n",
      "/root/VAPT/NMAP/parse/hosts/tcp_42761-zmtp.txt\n",
      "::::::::::::::\n",
      "127.0.0.1\n",
      "::::::::::::::\n",
      "/root/VAPT/NMAP/parse/hosts/tcp_43485-zmtp.txt\n",
      "::::::::::::::\n",
      "127.0.0.1\n",
      "::::::::::::::\n",
      "/root/VAPT/NMAP/parse/hosts/tcp_46207-zmtp.txt\n",
      "::::::::::::::\n",
      "127.0.0.1\n",
      "::::::::::::::\n",
      "/root/VAPT/NMAP/parse/hosts/tcp_46725-zmtp.txt\n",
      "::::::::::::::\n",
      "127.0.0.1\n",
      "::::::::::::::\n",
      "/root/VAPT/NMAP/parse/hosts/tcp_53049-zmtp.txt\n",
      "::::::::::::::\n",
      "127.0.0.1\n",
      "::::::::::::::\n",
      "/root/VAPT/NMAP/parse/hosts/tcp_54289-zmtp.txt\n",
      "::::::::::::::\n",
      "127.0.0.1\n",
      "::::::::::::::\n",
      "/root/VAPT/NMAP/parse/hosts/tcp_54557-zmtp.txt\n",
      "::::::::::::::\n",
      "127.0.0.1\n",
      "::::::::::::::\n",
      "/root/VAPT/NMAP/parse/hosts/tcp_57213-zmtp.txt\n",
      "::::::::::::::\n",
      "127.0.0.1\n",
      "::::::::::::::\n",
      "/root/VAPT/NMAP/parse/hosts/tcp_58233-zmtp.txt\n",
      "::::::::::::::\n",
      "127.0.0.1\n",
      "::::::::::::::\n",
      "/root/VAPT/NMAP/parse/hosts/tcp_60859-zmtp.txt\n",
      "::::::::::::::\n",
      "127.0.0.1\n",
      "::::::::::::::\n",
      "/root/VAPT/NMAP/parse/hosts/tcp_8888-http.txt\n",
      "::::::::::::::\n",
      "127.0.0.1\n"
     ]
    }
   ],
   "source": [
    "%%bash\n",
    "cd NMAP/ #Change directory to NMAP results\n",
    "/root/VAPT/ultimate-nmap-parser/ultimate-nmap-parser.sh nmap-full.gnmap --csv --all"
   ]
  },
  {
   "cell_type": "markdown",
   "metadata": {},
   "source": [
    "# ENUMERATION"
   ]
  },
  {
   "cell_type": "markdown",
   "metadata": {},
   "source": [
    "### HTTP ENUMERATION"
   ]
  },
  {
   "cell_type": "markdown",
   "metadata": {},
   "source": [
    "#### NIKTO"
   ]
  },
  {
   "cell_type": "code",
   "execution_count": 55,
   "metadata": {
    "scrolled": false
   },
   "outputs": [
    {
     "name": "stdout",
     "output_type": "stream",
     "text": [
      "- Nikto v2.1.6\n",
      "---------------------------------------------------------------------------\n",
      "+ Target IP:          127.0.0.1\n",
      "+ Target Hostname:    127.0.0.1\n",
      "+ Target Port:        8888\n",
      "+ Start Time:         2019-11-22 15:27:09 (GMT-5)\n",
      "---------------------------------------------------------------------------\n",
      "+ Server: TornadoServer/5.1.1\n",
      "+ The anti-clickjacking X-Frame-Options header is not present.\n",
      "+ The X-XSS-Protection header is not defined. This header can hint to the user agent to protect against some forms of XSS\n",
      "+ The X-Content-Type-Options header is not set. This could allow the user agent to render the content of the site in a different fashion to the MIME type\n",
      "+ Root page / redirects to: /tree?\n",
      "+ Cookie _xsrf created without the httponly flag\n",
      "+ All CGI directories 'found', use '-C none' to test none\n",
      "+ 26521 requests: 0 error(s) and 4 item(s) reported on remote host\n",
      "+ End Time:           2019-11-22 15:29:32 (GMT-5) (143 seconds)\n",
      "---------------------------------------------------------------------------\n",
      "+ 1 host(s) tested\n"
     ]
    }
   ],
   "source": [
    "#Enter Host with port number\n",
    "#!nikto -h {HOST} -p 443\n",
    "!nikto -h /root/VAPT/NMAP/parse/hosts/tcp_8888-http.txt -p 8888"
   ]
  },
  {
   "cell_type": "markdown",
   "metadata": {},
   "source": [
    "#### Directory Bruteforcing"
   ]
  },
  {
   "cell_type": "code",
   "execution_count": null,
   "metadata": {
    "scrolled": true
   },
   "outputs": [],
   "source": [
    "dirb"
   ]
  },
  {
   "cell_type": "markdown",
   "metadata": {},
   "source": [
    "## OPTIMIZING NMAP OUTPUT WITH SEARCHSPLOIT"
   ]
  },
  {
   "cell_type": "code",
   "execution_count": 22,
   "metadata": {
    "scrolled": false
   },
   "outputs": [
    {
     "name": "stdout",
     "output_type": "stream",
     "text": [
      "[i] Reading: '/root/VAPT/NMAP/nmap-full.xml'\n",
      "\n",
      "[i] /usr/bin/searchsploit -t rpcbind \n",
      "--------------------------------------- ----------------------------------------\n",
      " Exploit Title                         |  Path\n",
      "                                       | (/usr/share/exploitdb/)\n",
      "--------------------------------------- ----------------------------------------\n",
      "\u001b[01;31m\u001b[KRPCBind\u001b[m\u001b[K / libtirpc - Denial of Service | exploits/linux/dos/41974.rb\n",
      "Wietse Venema \u001b[01;31m\u001b[KRpcbind\u001b[m\u001b[K Replacement 2.1  | exploits/unix/dos/20376.txt\n",
      "\u001b[01;31m\u001b[Krpcbind\u001b[m\u001b[K - CALLIT procedure UDP Crash ( | exploits/linux/dos/26887.rb\n",
      "--------------------------------------- ----------------------------------------\n",
      "Shellcodes: No Result\n",
      "\n",
      "\n",
      "[i] /usr/bin/searchsploit -t rpcbind 2 \n",
      "--------------------------------------- ----------------------------------------\n",
      " Exploit Title                         |  Path\n",
      "                                       | (/usr/share/exploitdb/)\n",
      "--------------------------------------- ----------------------------------------\n",
      "Wietse Venema \u001b[01;31m\u001b[KRpcbind\u001b[m\u001b[K Replacement \u001b[01;31m\u001b[K2\u001b[m\u001b[K.1  | exploits/unix/dos/\u001b[01;31m\u001b[K2\u001b[m\u001b[K0376.txt\n",
      "--------------------------------------- ----------------------------------------\n",
      "Shellcodes: No Result\n",
      "\n",
      "\n",
      "[i] /usr/bin/searchsploit -t rpcbind 2 4 \n",
      "\n",
      "\n",
      "\n",
      "[i] /usr/bin/searchsploit -t tornado \n",
      "--------------------------------------- ----------------------------------------\n",
      " Exploit Title                         |  Path\n",
      "                                       | (/usr/share/exploitdb/)\n",
      "--------------------------------------- ----------------------------------------\n",
      "Softrex \u001b[01;31m\u001b[KTornado\u001b[m\u001b[K WWW-Server 1.2 - Buffe | exploits/windows/dos/22666.txt\n",
      "\u001b[01;31m\u001b[KTornado\u001b[m\u001b[K Knowledge Retrieval System 4.2 | exploits/cgi/webapps/31892.txt\n",
      "\u001b[01;31m\u001b[KTornado\u001b[m\u001b[KStore 1.4.3 - SQL Injection / H | exploits/php/webapps/34225.txt\n",
      "--------------------------------------- ----------------------------------------\n",
      "Shellcodes: No Result\n",
      "\n",
      "\n",
      "[i] /usr/bin/searchsploit -t tornado httpd \n",
      "\n",
      "\n",
      "\n",
      "[i] /usr/bin/searchsploit -t zeromq \n",
      "\n",
      "\n",
      "\n"
     ]
    }
   ],
   "source": [
    "!searchsploit -v --nmap \"{GUIDEM_NMAP_DIR}/nmap-full.xml\""
   ]
  },
  {
   "cell_type": "markdown",
   "metadata": {},
   "source": [
    "## FROM THE OUTPUT ABOVE SEARCH FOR EXPLOITS OR SCANNER IN METASPLOIT "
   ]
  },
  {
   "cell_type": "raw",
   "metadata": {},
   "source": [
    "%%bash\n",
    "service postgresql start\n",
    "msfconsole -qx \"msfdb init\"\n",
    "search rpc "
   ]
  },
  {
   "cell_type": "code",
   "execution_count": 50,
   "metadata": {
    "scrolled": true
   },
   "outputs": [
    {
     "name": "stdout",
     "output_type": "stream",
     "text": [
      "\u001b[0m\u001b[1m\u001b[34m[*]\u001b[0m Importing 'Nmap XML' data\n",
      "\u001b[1m\u001b[34m[*]\u001b[0m Import: Parsing with 'Nokogiri v1.10.4'\n",
      "\u001b[1m\u001b[34m[*]\u001b[0m Importing host 192.168.106.141\n",
      "\u001b[1m\u001b[34m[*]\u001b[0m Importing host 127.0.0.1\n",
      "\u001b[1m\u001b[34m[*]\u001b[0m Successfully imported /root/VAPT/NMAP/nmap-full.xml\n",
      "\u001b[4mmsf5\u001b[0m \u001b[0m> \u001b[0m\n",
      "Hosts\n",
      "=====\n",
      "\n",
      "address          mac  name       os_name  os_flavor  os_sp  purpose  info  comments\n",
      "-------          ---  ----       -------  ---------  -----  -------  ----  --------\n",
      "127.0.0.1             localhost  Unknown                    device         \n",
      "192.168.106.141                  Unknown                    device         \n",
      "\n",
      "\u001b[4mmsf5\u001b[0m \u001b[0m> \u001b[0m"
     ]
    },
    {
     "name": "stderr",
     "output_type": "stream",
     "text": [
      "stty: 'standard input': Inappropriate ioctl for device\n",
      "stty: 'standard input': Inappropriate ioctl for device\n",
      "stty: 'standard input': Inappropriate ioctl for device\n",
      "stty: 'standard input': Inappropriate ioctl for device\n",
      "stty: 'standard input': Inappropriate ioctl for device\n",
      "stty: 'standard input': Inappropriate ioctl for device\n",
      "stty: 'standard input': Inappropriate ioctl for device\n",
      "stty: 'standard input': Inappropriate ioctl for device\n",
      "stty: 'standard input': Inappropriate ioctl for device\n",
      "stty: 'standard input': Inappropriate ioctl for device\n",
      "stty: 'standard input': Inappropriate ioctl for device\n",
      "stty: 'standard input': Inappropriate ioctl for device\n",
      "stty: 'standard input': Inappropriate ioctl for device\n",
      "stty: 'standard input': Inappropriate ioctl for device\n"
     ]
    }
   ],
   "source": [
    "%%bash\n",
    "msfconsole -qx \"db_import /root/VAPT/NMAP/nmap-full.xml\"\n",
    "hosts -u"
   ]
  },
  {
   "cell_type": "code",
   "execution_count": null,
   "metadata": {
    "scrolled": true
   },
   "outputs": [],
   "source": [
    "%%bash\n",
    "masscan"
   ]
  },
  {
   "cell_type": "code",
   "execution_count": 48,
   "metadata": {
    "scrolled": true
   },
   "outputs": [
    {
     "ename": "NameError",
     "evalue": "name 'hosts' is not defined",
     "output_type": "error",
     "traceback": [
      "\u001b[0;31m---------------------------------------------------------------------------\u001b[0m",
      "\u001b[0;31mNameError\u001b[0m                                 Traceback (most recent call last)",
      "\u001b[0;32m<ipython-input-48-911e857fcebc>\u001b[0m in \u001b[0;36m<module>\u001b[0;34m()\u001b[0m\n\u001b[0;32m----> 1\u001b[0;31m \u001b[0mhosts\u001b[0m \u001b[0;34m-\u001b[0m\u001b[0mu\u001b[0m\u001b[0;34m\u001b[0m\u001b[0;34m\u001b[0m\u001b[0m\n\u001b[0m",
      "\u001b[0;31mNameError\u001b[0m: name 'hosts' is not defined"
     ]
    }
   ],
   "source": [
    "hosts -u"
   ]
  },
  {
   "cell_type": "code",
   "execution_count": null,
   "metadata": {
    "scrolled": true
   },
   "outputs": [],
   "source": []
  }
 ],
 "metadata": {
  "kernelspec": {
   "display_name": "Python 3",
   "language": "python",
   "name": "python3"
  },
  "language_info": {
   "codemirror_mode": {
    "name": "ipython",
    "version": 3
   },
   "file_extension": ".py",
   "mimetype": "text/x-python",
   "name": "python",
   "nbconvert_exporter": "python",
   "pygments_lexer": "ipython3",
   "version": "3.7.4"
  }
 },
 "nbformat": 4,
 "nbformat_minor": 2
}
